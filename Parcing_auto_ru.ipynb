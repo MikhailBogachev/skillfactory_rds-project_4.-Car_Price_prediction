{
 "cells": [
  {
   "cell_type": "code",
   "execution_count": 2,
   "metadata": {},
   "outputs": [],
   "source": [
    "import requests\n",
    "import lxml.html\n",
    "import pandas as pd\n",
    "from bs4 import BeautifulSoup"
   ]
  },
  {
   "cell_type": "code",
   "execution_count": 3,
   "metadata": {},
   "outputs": [],
   "source": [
    "df = pd.read_csv('test.csv')"
   ]
  },
  {
   "cell_type": "code",
   "execution_count": 4,
   "metadata": {},
   "outputs": [],
   "source": [
    "index = [x for x in range(0, 7443)]\n",
    "df1 = pd.DataFrame(index = index, columns = ['bodyType','brand','color','fuelType','image','modelDate','name','numberOfDoors','productionDate','vehicleConfiguration','vehicleTransmission','availability','url','engineDisplacement','enginePower','kmage','Комплектация','fuelType', 'name1', 'name2', 'Привод', 'Руль','Состояние','Владельцы','ПТС','Таможня','Владение','price','priceCurrency'])"
   ]
  },
  {
   "cell_type": "code",
   "execution_count": 9,
   "metadata": {},
   "outputs": [],
   "source": [
    "i=0\n",
    "for j in range(1, 201): #200 - кол-во страниц (на одной странице 37 обявлений)\n",
    "\n",
    "\n",
    "    r = requests.get(f'https://auto.ru/moskva/cars/bmw/used/?output_type=list&page={j}&sort=fresh_relevance_1-desc')\n",
    "    r.encoding = 'utf-8'\n",
    "    soup = BeautifulSoup(r.text, 'html.parser')\n",
    "    soups1 = soup.findAll('span', itemtype = 'http://schema.org/Car')\n",
    "    soups2 = soup.findAll('span', itemtype=\"http://schema.org/Offer\")\n",
    "    soups3 = soup.findAll('span', itemtype=\"http://schema.org/EngineSpecification\")\n",
    "    soups4 = soup.findAll('div', class_ = 'ListingItem-module__kmAge')\n",
    "    \n",
    "    while i<j*len(soups1): \n",
    "        for row in soups1[i-((j-1))*len(soups1)]:\n",
    "            try:\n",
    "                df1.loc[i][row['itemprop']] = row['content']\n",
    "            except KeyError:\n",
    "                continue\n",
    "                \n",
    "        for row in soups2[i-((j-1))*len(soups1)]:\n",
    "            if row['itemprop'] == 'url':\n",
    "                URL = row['content']\n",
    "                df1.loc[i][row['itemprop']] = row['content']\n",
    "            if row['itemprop'] == 'name':\n",
    "                df1.loc[i]['name1'] = row['content']\n",
    "            else:\n",
    "                df1.loc[i][row['itemprop']] = row['content']\n",
    "    \n",
    "        try:\n",
    "            R = requests.get(URL) \n",
    "            R.encoding = 'utf-8'\n",
    "            Soup = BeautifulSoup(R.text, 'html.parser')\n",
    "        except Exception:\n",
    "            None\n",
    "        try:\n",
    "            #Привод\n",
    "            df1.loc[i]['Привод'] = Soup.find('li', class_=\"CardInfo__row CardInfo__row_drive\").findAll('span', class_='CardInfo__cell')[1].text\n",
    "        except AttributeError:\n",
    "            None\n",
    "        try:    \n",
    "            #Руль\n",
    "            df1.loc[i]['Руль'] = Soup.find('li', class_=\"CardInfo__row CardInfo__row_wheel\").findAll('span', class_='CardInfo__cell')[1].text\n",
    "        except AttributeError:\n",
    "            None\n",
    "        try:    \n",
    "            #Состояние\n",
    "            df1.loc[i]['Состояние'] = Soup.find('li', class_=\"CardInfo__row CardInfo__row_state\").findAll('span', class_='CardInfo__cell')[1].text\n",
    "        except AttributeError:\n",
    "            None\n",
    "        try:\n",
    "            #Владельцы\n",
    "            df1.loc[i]['Владельцы'] = Soup.find('li', class_=\"CardInfo__row CardInfo__row_ownersCount\").findAll('span', class_='CardInfo__cell')[1].text\n",
    "        except AttributeError:\n",
    "            None\n",
    "        try:\n",
    "            #ПТС\n",
    "            df1.loc[i]['ПТС'] = Soup.find('li', class_=\"CardInfo__row CardInfo__row_pts\").findAll('span', class_='CardInfo__cell')[1].text\n",
    "        except AttributeError:\n",
    "            None\n",
    "        try:\n",
    "            #Таможня\n",
    "            df1.loc[i]['Таможня'] = Soup.find('li', class_=\"CardInfo__row CardInfo__row_customs\").findAll('span', class_='CardInfo__cell')[1].text\n",
    "        except AttributeError:   \n",
    "            None\n",
    "        try:\n",
    "            #Владение\n",
    "            df1.loc[i]['Владение'] = Soup.find('li', class_=\"CardInfo__row CardInfo__row_owningTime\").findAll('span', class_='CardInfo__cell')[1].text\n",
    "        except AttributeError:   \n",
    "            None\n",
    "            \n",
    "        try:\n",
    "            #kmage\n",
    "            df1.loc[i]['kmage'] = Soup.find('li', class_=\"CardInfo__row CardInfo__row_kmAge\").findAll('span', class_='CardInfo__cell')[1].text\n",
    "        except AttributeError:   \n",
    "            None       \n",
    "        \n",
    "        for row in soups3[i-((j-1))*len(soups1)]:\n",
    "            if row['itemprop'] == 'name':\n",
    "                df1.loc[i]['name2'] = row['content']\n",
    "            else:\n",
    "                df1.loc[i][row['itemprop']] = row['content']\n",
    "            \n",
    "        try:\n",
    "            card_complectation = []\n",
    "            for row in Soup.find('div', class_=\"CardComplectation__groups\").findAll('div', class_= 'CardComplectation__group'):\n",
    "                #print(row)\n",
    "                for ROW in row.findAll('li', class_='CardComplectation__itemContentEl'):\n",
    "                    #print(ROW)\n",
    "                    card_complectation.append(ROW.text)\n",
    "            #print(card_complectation)        \n",
    "            df1.loc[i]['Комплектация'] = card_complectation\n",
    "        except Exception:\n",
    "            None\n",
    "            \n",
    "        i += 1\n",
    "        print(f'Кол-во спарсенных объявлений: {i}', end=\"\\r\")"
   ]
  },
  {
   "cell_type": "code",
   "execution_count": 91,
   "metadata": {},
   "outputs": [],
   "source": [
    "df1.to_csv('autoru3.csv')"
   ]
  }
 ],
 "metadata": {
  "kernelspec": {
   "display_name": "Python 3",
   "language": "python",
   "name": "python3"
  },
  "language_info": {
   "codemirror_mode": {
    "name": "ipython",
    "version": 3
   },
   "file_extension": ".py",
   "mimetype": "text/x-python",
   "name": "python",
   "nbconvert_exporter": "python",
   "pygments_lexer": "ipython3",
   "version": "3.7.4"
  }
 },
 "nbformat": 4,
 "nbformat_minor": 4
}
