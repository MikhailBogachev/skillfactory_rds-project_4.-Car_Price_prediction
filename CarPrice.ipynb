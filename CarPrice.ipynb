{
 "cells": [
  {
   "cell_type": "code",
   "execution_count": 60,
   "metadata": {},
   "outputs": [],
   "source": [
    "import numpy as np\n",
    "import pandas as pd\n",
    "import seaborn as sns\n",
    "import matplotlib.pyplot as plt\n",
    "import re\n",
    "from catboost import CatBoostRegressor\n",
    "from sklearn.model_selection import KFold\n",
    "from tqdm.notebook import tqdm"
   ]
  },
  {
   "cell_type": "code",
   "execution_count": 61,
   "metadata": {},
   "outputs": [],
   "source": [
    "df = pd.read_csv('test.csv')\n",
    "df1 = pd.read_csv('autoru2.csv')\n",
    "pd.options.display.max_columns = 30\n",
    "df1 = df1[0:7400]"
   ]
  },
  {
   "cell_type": "code",
   "execution_count": 62,
   "metadata": {},
   "outputs": [],
   "source": [
    "df.drop(['vehicleConfiguration','description','name', 'brand', 'id'], axis = 1, inplace = True)\n",
    "df1.drop(['Unnamed: 0', 'image', 'vehicleConfiguration','name', 'brand','availability','url', 'fuelType.1','name1','name2','priceCurrency'], axis = 1, inplace = True)"
   ]
  },
  {
   "cell_type": "code",
   "execution_count": 63,
   "metadata": {},
   "outputs": [],
   "source": [
    "#from km in mile\n",
    "df1.drop(df1[df1.kmage.isna() == True].index, axis = 0, inplace = True)\n",
    "df1['mileage'] = df1.kmage.apply(lambda x: round(float(x[0:-7]+x[-6:-3])*0.62137))\n",
    "df1.drop(['kmage'], axis = 1, inplace = True)"
   ]
  },
  {
   "cell_type": "code",
   "execution_count": 64,
   "metadata": {},
   "outputs": [],
   "source": [
    "df['Владение'].fillna('не имел владельцев', inplace = True)\n",
    "df1['Владение'].fillna('не имел владельцев', inplace = True)"
   ]
  },
  {
   "cell_type": "code",
   "execution_count": 65,
   "metadata": {},
   "outputs": [],
   "source": [
    "df1 = df1.reset_index(drop=True)"
   ]
  },
  {
   "cell_type": "code",
   "execution_count": 66,
   "metadata": {},
   "outputs": [
    {
     "data": {
      "text/html": [
       "<div>\n",
       "<style scoped>\n",
       "    .dataframe tbody tr th:only-of-type {\n",
       "        vertical-align: middle;\n",
       "    }\n",
       "\n",
       "    .dataframe tbody tr th {\n",
       "        vertical-align: top;\n",
       "    }\n",
       "\n",
       "    .dataframe thead th {\n",
       "        text-align: right;\n",
       "    }\n",
       "</style>\n",
       "<table border=\"1\" class=\"dataframe\">\n",
       "  <thead>\n",
       "    <tr style=\"text-align: right;\">\n",
       "      <th></th>\n",
       "      <th>bodyType</th>\n",
       "      <th>color</th>\n",
       "      <th>fuelType</th>\n",
       "      <th>modelDate</th>\n",
       "      <th>numberOfDoors</th>\n",
       "      <th>productionDate</th>\n",
       "      <th>vehicleTransmission</th>\n",
       "      <th>engineDisplacement</th>\n",
       "      <th>enginePower</th>\n",
       "      <th>Комплектация</th>\n",
       "      <th>Привод</th>\n",
       "      <th>Руль</th>\n",
       "      <th>Состояние</th>\n",
       "      <th>Владельцы</th>\n",
       "      <th>ПТС</th>\n",
       "      <th>Таможня</th>\n",
       "      <th>Владение</th>\n",
       "      <th>price</th>\n",
       "      <th>mileage</th>\n",
       "    </tr>\n",
       "  </thead>\n",
       "  <tbody>\n",
       "    <tr>\n",
       "      <td>1965</td>\n",
       "      <td>седан</td>\n",
       "      <td>чёрный</td>\n",
       "      <td>бензин</td>\n",
       "      <td>1986.0</td>\n",
       "      <td>4.0</td>\n",
       "      <td>1988.0</td>\n",
       "      <td>автоматическая</td>\n",
       "      <td>3.0 LTR</td>\n",
       "      <td>188 N12</td>\n",
       "      <td>['Регулировка передних сидений по высоте', 'Лю...</td>\n",
       "      <td>задний</td>\n",
       "      <td>Левый</td>\n",
       "      <td>Не требует ремонта</td>\n",
       "      <td>3 или более</td>\n",
       "      <td>Дубликат</td>\n",
       "      <td>Растаможен</td>\n",
       "      <td>не имел владельцев</td>\n",
       "      <td>105000.0</td>\n",
       "      <td>403890</td>\n",
       "    </tr>\n",
       "    <tr>\n",
       "      <td>2771</td>\n",
       "      <td>седан</td>\n",
       "      <td>серебристый</td>\n",
       "      <td>бензин</td>\n",
       "      <td>1987.0</td>\n",
       "      <td>4.0</td>\n",
       "      <td>1993.0</td>\n",
       "      <td>механическая</td>\n",
       "      <td>2.5 LTR</td>\n",
       "      <td>192 N12</td>\n",
       "      <td>['Bluetooth', 'USB', 'Мультимедиа система с ЖК...</td>\n",
       "      <td>задний</td>\n",
       "      <td>Левый</td>\n",
       "      <td>Не требует ремонта</td>\n",
       "      <td>3 или более</td>\n",
       "      <td>Оригинал</td>\n",
       "      <td>Растаможен</td>\n",
       "      <td>1 год и 1 месяц</td>\n",
       "      <td>180000.0</td>\n",
       "      <td>559233</td>\n",
       "    </tr>\n",
       "  </tbody>\n",
       "</table>\n",
       "</div>"
      ],
      "text/plain": [
       "     bodyType        color fuelType  modelDate  numberOfDoors  productionDate  \\\n",
       "1965    седан       чёрный   бензин     1986.0            4.0          1988.0   \n",
       "2771    седан  серебристый   бензин     1987.0            4.0          1993.0   \n",
       "\n",
       "     vehicleTransmission engineDisplacement enginePower  \\\n",
       "1965      автоматическая            3.0 LTR     188 N12   \n",
       "2771        механическая            2.5 LTR     192 N12   \n",
       "\n",
       "                                           Комплектация  Привод   Руль  \\\n",
       "1965  ['Регулировка передних сидений по высоте', 'Лю...  задний  Левый   \n",
       "2771  ['Bluetooth', 'USB', 'Мультимедиа система с ЖК...  задний  Левый   \n",
       "\n",
       "               Состояние    Владельцы       ПТС     Таможня  \\\n",
       "1965  Не требует ремонта  3 или более  Дубликат  Растаможен   \n",
       "2771  Не требует ремонта  3 или более  Оригинал  Растаможен   \n",
       "\n",
       "                Владение     price  mileage  \n",
       "1965  не имел владельцев  105000.0   403890  \n",
       "2771     1 год и 1 месяц  180000.0   559233  "
      ]
     },
     "execution_count": 66,
     "metadata": {},
     "output_type": "execute_result"
    }
   ],
   "source": [
    "df1[df1.mileage >400000]"
   ]
  },
  {
   "cell_type": "code",
   "execution_count": 67,
   "metadata": {},
   "outputs": [],
   "source": [
    "df1 = df1.drop(df1[df1.mileage >400000].index)"
   ]
  },
  {
   "cell_type": "code",
   "execution_count": 69,
   "metadata": {},
   "outputs": [
    {
     "data": {
      "text/plain": [
       "полный      4672\n",
       "задний      2703\n",
       "передний      21\n",
       "Name: Привод, dtype: int64"
      ]
     },
     "execution_count": 69,
     "metadata": {},
     "output_type": "execute_result"
    }
   ],
   "source": [
    "df1['Привод'].value_counts()"
   ]
  },
  {
   "cell_type": "code",
   "execution_count": 70,
   "metadata": {},
   "outputs": [
    {
     "data": {
      "text/plain": [
       "бензин     4766\n",
       "дизель     2619\n",
       "гибрид        9\n",
       "электро       2\n",
       "Name: fuelType, dtype: int64"
      ]
     },
     "execution_count": 70,
     "metadata": {},
     "output_type": "execute_result"
    }
   ],
   "source": [
    "df1['fuelType'].value_counts()"
   ]
  },
  {
   "cell_type": "code",
   "execution_count": 71,
   "metadata": {},
   "outputs": [],
   "source": [
    "df1 = df1.drop(df1[df1['Привод'] == 'передний'].index)\n",
    "df1 = df1.drop(df1[(df1['fuelType'] == 'гибрид') | (df1['fuelType'] == 'электро')].index)"
   ]
  },
  {
   "cell_type": "code",
   "execution_count": 72,
   "metadata": {},
   "outputs": [],
   "source": [
    "df.drop(['Руль','Владение','Состояние'], axis = 1, inplace = True)\n",
    "df1.drop(['Руль','Владение','Состояние'], axis = 1, inplace = True)"
   ]
  },
  {
   "cell_type": "code",
   "execution_count": 74,
   "metadata": {},
   "outputs": [],
   "source": [
    "df['modelDate'] = 2020 - df['modelDate']\n",
    "df1['modelDate'] = 2020 - df1['modelDate']\n",
    "df['productionDate'] = 2020- df['productionDate']\n",
    "df1['productionDate'] = 2020- df1['productionDate']"
   ]
  },
  {
   "cell_type": "code",
   "execution_count": 76,
   "metadata": {},
   "outputs": [],
   "source": [
    "y_real = pd.read_csv('sample_submission.csv')\n",
    "sample_submission = y_real.copy()"
   ]
  },
  {
   "cell_type": "code",
   "execution_count": 77,
   "metadata": {},
   "outputs": [],
   "source": [
    "def del_first_space(x):\n",
    "    a = []\n",
    "    for row in x:\n",
    "        if row[0] == ' ':\n",
    "            row = row[1:]\n",
    "        a.append(row)\n",
    "    return a"
   ]
  },
  {
   "cell_type": "code",
   "execution_count": 78,
   "metadata": {},
   "outputs": [],
   "source": [
    "df1['Комплектация'].fillna('Комплектация отсутствует', inplace = True)\n",
    "df1['Компл'] = df1['Комплектация'].apply(lambda x: x.replace('[', '').replace(']', '').replace(\"'\", ''))\n",
    "df1['Компл'] = df1['Компл'].apply(lambda x: x.split(','))\n",
    "df1['Компл'] = df1['Компл'].apply(del_first_space)\n",
    "df1.drop(['Комплектация'], axis = 1, inplace = True)"
   ]
  },
  {
   "cell_type": "code",
   "execution_count": 79,
   "metadata": {},
   "outputs": [],
   "source": [
    "def del_space(x):\n",
    "    a = []\n",
    "    for row in x:\n",
    "        if row != '':\n",
    "            a.append(row)\n",
    "    return a"
   ]
  },
  {
   "cell_type": "code",
   "execution_count": 80,
   "metadata": {},
   "outputs": [],
   "source": [
    "df['Комплектация'].fillna('Комплектация отсутствует', inplace = True)\n",
    "df['Компл'] = df['Комплектация'].apply(lambda x: x.replace('[', '').replace(']', '').replace(\"'\", '').replace(\"name\", '').replace(\"values\", '')\n",
    "                                       .replace('\"', '').replace(\"{\", '').replace(\"}\", '').replace(\":\", '').replace('Обзор', '')\n",
    "                                       .replace('Элементы экстерьера', '').replace('Защита от угона', '').replace('Мультимедиа', '')\n",
    "                                       .replace('Салон', '').replace('Комфорт', '').replace('Безопасность', '').replace('Прочее', ''))\n",
    "df['Компл'] = df['Компл'].apply(lambda x: x.split(','))\n",
    "df['Компл'] = df['Компл'].apply(del_space)\n",
    "df.drop(['Комплектация'], axis = 1, inplace = True)\n",
    "df['Компл'] = df['Компл'].apply(del_first_space)"
   ]
  },
  {
   "cell_type": "code",
   "execution_count": 81,
   "metadata": {},
   "outputs": [],
   "source": [
    "df['price'] = 0\n",
    "df['sample'] = 0\n",
    "df1['sample'] = 1\n",
    "data = pd.concat([df, df1], sort=False, ignore_index = True)"
   ]
  },
  {
   "cell_type": "code",
   "execution_count": 82,
   "metadata": {},
   "outputs": [],
   "source": [
    "data2 = data['Компл']"
   ]
  },
  {
   "cell_type": "code",
   "execution_count": 83,
   "metadata": {},
   "outputs": [],
   "source": [
    "data2 = pd.get_dummies(data2.apply(pd.Series).stack(), dummy_na=True).sum(level=0)"
   ]
  },
  {
   "cell_type": "code",
   "execution_count": 84,
   "metadata": {},
   "outputs": [],
   "source": [
    "data = pd.get_dummies(data, columns = ['bodyType', 'color', 'fuelType', 'vehicleTransmission', 'enginePower',\n",
    "                                           'Привод', 'Владельцы', 'ПТС', 'engineDisplacement', 'Таможня',], dummy_na=True)"
   ]
  },
  {
   "cell_type": "code",
   "execution_count": 85,
   "metadata": {},
   "outputs": [],
   "source": [
    "data = pd.concat([data, data2], axis = 1)"
   ]
  },
  {
   "cell_type": "code",
   "execution_count": 86,
   "metadata": {},
   "outputs": [],
   "source": [
    "data.drop(['Компл'], axis = 1, inplace = True)"
   ]
  },
  {
   "cell_type": "code",
   "execution_count": 87,
   "metadata": {},
   "outputs": [],
   "source": [
    "train_data = data.query('sample==1').drop('sample', axis = 1)\n",
    "test_data = data.query('sample==0').drop(['sample', 'price'], axis = 1)"
   ]
  },
  {
   "cell_type": "code",
   "execution_count": 88,
   "metadata": {},
   "outputs": [],
   "source": [
    "X = train_data.drop(['price'], axis = 1)\n",
    "y = train_data['price']\n",
    "X = X.reset_index(drop=True)\n",
    "y = y.reset_index(drop=True)"
   ]
  },
  {
   "cell_type": "code",
   "execution_count": 89,
   "metadata": {},
   "outputs": [],
   "source": [
    "from sklearn.ensemble import RandomForestRegressor, RandomForestClassifier, GradientBoostingRegressor, ExtraTreesRegressor, BaggingRegressor"
   ]
  },
  {
   "cell_type": "code",
   "execution_count": 97,
   "metadata": {},
   "outputs": [],
   "source": [
    "test_data.fillna(0, inplace = True)"
   ]
  },
  {
   "cell_type": "code",
   "execution_count": 98,
   "metadata": {},
   "outputs": [
    {
     "data": {
      "application/vnd.jupyter.widget-view+json": {
       "model_id": "e223c7fdf11b4ed8917ce2e26e9dffe0",
       "version_major": 2,
       "version_minor": 0
      },
      "text/plain": [
       "HBox(children=(IntProgress(value=0, max=2), HTML(value='')))"
      ]
     },
     "metadata": {},
     "output_type": "display_data"
    },
    {
     "name": "stderr",
     "output_type": "stream",
     "text": [
      "[Parallel(n_jobs=-1)]: Using backend ThreadingBackend with 4 concurrent workers.\n",
      "[Parallel(n_jobs=-1)]: Done  42 tasks      | elapsed:    1.4s\n",
      "[Parallel(n_jobs=-1)]: Done 192 tasks      | elapsed:    6.5s\n",
      "[Parallel(n_jobs=-1)]: Done 250 out of 250 | elapsed:    8.8s finished\n",
      "[Parallel(n_jobs=4)]: Using backend ThreadingBackend with 4 concurrent workers.\n",
      "[Parallel(n_jobs=4)]: Done  42 tasks      | elapsed:    0.0s\n",
      "[Parallel(n_jobs=4)]: Done 192 tasks      | elapsed:    0.0s\n",
      "[Parallel(n_jobs=4)]: Done 250 out of 250 | elapsed:    0.0s finished\n"
     ]
    },
    {
     "name": "stdout",
     "output_type": "stream",
     "text": [
      "\n"
     ]
    }
   ],
   "source": [
    "models = [RandomForestRegressor(n_estimators =250,random_state = 42, n_jobs = -1, verbose = 1),\n",
    "         BaggingRegressor(ExtraTreesRegressor(random_state=42), random_state=42)]\n",
    "\n",
    "def stacking_model_predict(models, X, y, test_data, sample_submission):\n",
    "    for model_ in tqdm(models):\n",
    "        model_.fit(X, y)\n",
    "        pred_subm = model_.predict(test_data)\n",
    "        sample_submission[str(model_)[:6]] = pred_subm\n",
    "        #sample_submission[str(model_)[:6]] = sample_submission[str(model_)[:6]]\n",
    "        #sample_submission[str(model_)[:6]] = sample_submission[str(model_)[:6]]\n",
    "    sample_submission['price'] = sample_submission.iloc[:,2:].mean(axis=1)\n",
    "    sample_submission[['id', 'price']].to_csv(f'submission_v2.csv', index=False)\n",
    "    sample_submission.head(10)\n",
    "\n",
    "stacking_model_predict(models, X, y, test_data, y_real)"
   ]
  },
  {
   "cell_type": "code",
   "execution_count": 99,
   "metadata": {},
   "outputs": [],
   "source": [
    "sample_submission = pd.read_csv('submission_v2.csv')"
   ]
  },
  {
   "cell_type": "code",
   "execution_count": 100,
   "metadata": {},
   "outputs": [],
   "source": [
    "sample_submission['price'] = sample_submission['price'].apply(lambda x: round(x))"
   ]
  },
  {
   "cell_type": "code",
   "execution_count": 101,
   "metadata": {},
   "outputs": [
    {
     "data": {
      "text/html": [
       "<div>\n",
       "<style scoped>\n",
       "    .dataframe tbody tr th:only-of-type {\n",
       "        vertical-align: middle;\n",
       "    }\n",
       "\n",
       "    .dataframe tbody tr th {\n",
       "        vertical-align: top;\n",
       "    }\n",
       "\n",
       "    .dataframe thead th {\n",
       "        text-align: right;\n",
       "    }\n",
       "</style>\n",
       "<table border=\"1\" class=\"dataframe\">\n",
       "  <thead>\n",
       "    <tr style=\"text-align: right;\">\n",
       "      <th></th>\n",
       "      <th>id</th>\n",
       "      <th>price</th>\n",
       "    </tr>\n",
       "  </thead>\n",
       "  <tbody>\n",
       "    <tr>\n",
       "      <td>0</td>\n",
       "      <td>0</td>\n",
       "      <td>1796184</td>\n",
       "    </tr>\n",
       "    <tr>\n",
       "      <td>1</td>\n",
       "      <td>1</td>\n",
       "      <td>2521419</td>\n",
       "    </tr>\n",
       "    <tr>\n",
       "      <td>2</td>\n",
       "      <td>2</td>\n",
       "      <td>1304659</td>\n",
       "    </tr>\n",
       "    <tr>\n",
       "      <td>3</td>\n",
       "      <td>3</td>\n",
       "      <td>2294731</td>\n",
       "    </tr>\n",
       "    <tr>\n",
       "      <td>4</td>\n",
       "      <td>4</td>\n",
       "      <td>4166240</td>\n",
       "    </tr>\n",
       "    <tr>\n",
       "      <td>...</td>\n",
       "      <td>...</td>\n",
       "      <td>...</td>\n",
       "    </tr>\n",
       "    <tr>\n",
       "      <td>3832</td>\n",
       "      <td>3832</td>\n",
       "      <td>1260032</td>\n",
       "    </tr>\n",
       "    <tr>\n",
       "      <td>3833</td>\n",
       "      <td>3833</td>\n",
       "      <td>2672915</td>\n",
       "    </tr>\n",
       "    <tr>\n",
       "      <td>3834</td>\n",
       "      <td>3834</td>\n",
       "      <td>581447</td>\n",
       "    </tr>\n",
       "    <tr>\n",
       "      <td>3835</td>\n",
       "      <td>3835</td>\n",
       "      <td>988476</td>\n",
       "    </tr>\n",
       "    <tr>\n",
       "      <td>3836</td>\n",
       "      <td>3836</td>\n",
       "      <td>1094715</td>\n",
       "    </tr>\n",
       "  </tbody>\n",
       "</table>\n",
       "<p>3837 rows × 2 columns</p>\n",
       "</div>"
      ],
      "text/plain": [
       "        id    price\n",
       "0        0  1796184\n",
       "1        1  2521419\n",
       "2        2  1304659\n",
       "3        3  2294731\n",
       "4        4  4166240\n",
       "...    ...      ...\n",
       "3832  3832  1260032\n",
       "3833  3833  2672915\n",
       "3834  3834   581447\n",
       "3835  3835   988476\n",
       "3836  3836  1094715\n",
       "\n",
       "[3837 rows x 2 columns]"
      ]
     },
     "execution_count": 101,
     "metadata": {},
     "output_type": "execute_result"
    }
   ],
   "source": [
    "sample_submission"
   ]
  },
  {
   "cell_type": "code",
   "execution_count": 102,
   "metadata": {},
   "outputs": [],
   "source": [
    "sample_submission.to_csv(f'submission_v2.csv', index=False)"
   ]
  }
 ],
 "metadata": {
  "kernelspec": {
   "display_name": "Python 3",
   "language": "python",
   "name": "python3"
  },
  "language_info": {
   "codemirror_mode": {
    "name": "ipython",
    "version": 3
   },
   "file_extension": ".py",
   "mimetype": "text/x-python",
   "name": "python",
   "nbconvert_exporter": "python",
   "pygments_lexer": "ipython3",
   "version": "3.7.4"
  }
 },
 "nbformat": 4,
 "nbformat_minor": 4
}
